{
  "cells": [
    {
      "cell_type": "code",
      "execution_count": 35,
      "metadata": {
        "id": "7a6c3f15-3df4-4dbc-86cf-9a4a708b72a8"
      },
      "outputs": [],
      "source": [
        "from datasets import load_dataset\n",
        "from transformers import AutoTokenizer\n",
        "from transformers import DataCollatorForSeq2Seq\n",
        "import evaluate\n",
        "import numpy as np\n",
        "import torch\n",
        "from transformers import AutoModelForSeq2SeqLM, Seq2SeqTrainingArguments, Seq2SeqTrainer\n",
        "from transformers import pipeline\n",
        "import pandas as pd\n",
        "\n",
        "#Start by loading in a bill training data which contains text and its summary:\n",
        "bill = load_dataset(\"billsum\", split=\"ca_test\")"
      ],
      "id": "7a6c3f15-3df4-4dbc-86cf-9a4a708b72a8"
    },
    {
      "cell_type": "code",
      "execution_count": 36,
      "metadata": {
        "id": "90bca2ac-c993-4ed6-8856-4d2b98684c4d"
      },
      "outputs": [],
      "source": [
        "#Split the dataset into a 60 train and 40 test:\n",
        "bill = bill.train_test_split(test_size=0.4)"
      ],
      "id": "90bca2ac-c993-4ed6-8856-4d2b98684c4d"
    },
    {
      "cell_type": "code",
      "execution_count": 37,
      "metadata": {
        "id": "48220418-2541-4aa5-9281-a6221bce5b55"
      },
      "outputs": [],
      "source": [
        "#Load T5 tokenizer to process text and summary:\n",
        "t5 = \"t5-small\"\n",
        "tokenizer = AutoTokenizer.from_pretrained(t5)\n",
        "\n",
        "check = \"summarize: \""
      ],
      "id": "48220418-2541-4aa5-9281-a6221bce5b55"
    },
    {
      "cell_type": "code",
      "execution_count": 38,
      "metadata": {
        "id": "98494433-f439-4189-8cf2-a6b86839661c"
      },
      "outputs": [],
      "source": [
        "#The preprocessing function:\n",
        "#Check the prefix the input with a 'summarize: '.\n",
        "#Truncate sequences to be the maximum length. I decided that 2000 should be the max input with 500 as the max output\n",
        "\n",
        "def preprocess(examples):\n",
        "    inputs = [check + doc for doc in examples[\"text\"]]\n",
        "    model_inputs = tokenizer(inputs, max_length=2000, truncation=True)\n",
        "\n",
        "    labels = tokenizer(text_target=examples[\"summary\"], max_length=500, truncation=True)\n",
        "\n",
        "    model_inputs[\"labels\"] = labels[\"input_ids\"]\n",
        "    return model_inputs"
      ],
      "id": "98494433-f439-4189-8cf2-a6b86839661c"
    },
    {
      "cell_type": "code",
      "execution_count": 39,
      "metadata": {
        "colab": {
          "base_uri": "https://localhost:8080/",
          "height": 81,
          "referenced_widgets": [
            "63516a3275f544bd8455471598fbd7b5",
            "11a3dcb3da894d4785a06b44de9c97e2",
            "71c1e6c534d1446987aa29a8ce6bdfbe",
            "6e33b666a42843e7b2583fc3ef59c140",
            "408495a133c6457da530b9b1a77e88b0",
            "c329e5da29094179b8265694a3657f5b",
            "bdd5e2e6109b47a59e8324f05bd4c50f",
            "b5fe023de3424680884bbf5a9b1744c5",
            "b1d46c2b4307467eaad63790db61602f",
            "70f6ef11aa4d4602a294df670e524f50",
            "4fe1d52ba30c473ab51c79ab335bf7ea",
            "3d4de5f979314ce1a0fa811f10ffdf72",
            "8b2f7b1b80f34c568e9ebaca11772331",
            "29cab978ef874c3bbba2fbfe90c6fab6",
            "509a70372e9e4e2bac56a16d77545c98",
            "0bbf44f0c4c347fbbccec71c76a3fcaa",
            "4b699cd0054e496a8e91dbdcfd1ce20b",
            "670caeeb3751429187a7edb853850672",
            "87f88987f4df45f9b710cc0f1e95c123",
            "fe8ec266478c484c9109183f2b4c6a68",
            "76b242e96f43440298a48c59bbd37685",
            "80edb115e96c49b1874bdcb0192b058e"
          ]
        },
        "id": "2a29f55c-1482-4d39-a296-04723465c7dc",
        "outputId": "714a54e8-3323-435e-a1e0-89f2e7380f0c"
      },
      "outputs": [
        {
          "output_type": "display_data",
          "data": {
            "text/plain": [
              "Map:   0%|          | 0/742 [00:00<?, ? examples/s]"
            ],
            "application/vnd.jupyter.widget-view+json": {
              "version_major": 2,
              "version_minor": 0,
              "model_id": "63516a3275f544bd8455471598fbd7b5"
            }
          },
          "metadata": {}
        },
        {
          "output_type": "display_data",
          "data": {
            "text/plain": [
              "Map:   0%|          | 0/495 [00:00<?, ? examples/s]"
            ],
            "application/vnd.jupyter.widget-view+json": {
              "version_major": 2,
              "version_minor": 0,
              "model_id": "3d4de5f979314ce1a0fa811f10ffdf72"
            }
          },
          "metadata": {}
        }
      ],
      "source": [
        "#To apply the preprocessing function over the entire dataset, use 🤗 Datasets map method.\n",
        "tokenized_bill = bill.map(preprocess, batched=True)"
      ],
      "id": "2a29f55c-1482-4d39-a296-04723465c7dc"
    },
    {
      "cell_type": "code",
      "execution_count": 40,
      "metadata": {
        "id": "b551e499-4719-4416-b0b0-cccdbd5cf086"
      },
      "outputs": [],
      "source": [
        "#Now create a batch of examples using DataCollatorForSeq2Seq.\n",
        "data_collator = DataCollatorForSeq2Seq(tokenizer=tokenizer, model=t5)"
      ],
      "id": "b551e499-4719-4416-b0b0-cccdbd5cf086"
    },
    {
      "cell_type": "code",
      "execution_count": 41,
      "metadata": {
        "id": "ee52f354-b550-4bf4-a3bf-f26ca772bcaf"
      },
      "outputs": [],
      "source": [
        "#Then create a function that passes your predictions and labels to compute to calculate the ROUGE metric:\n",
        "rouge = evaluate.load(\"rouge\")\n",
        "\n",
        "def compute_metrics(eval_pred):\n",
        "    predictions, labels = eval_pred\n",
        "    decoded_preds = tokenizer.batch_decode(predictions, skip_special_tokens=True)\n",
        "    labels = np.where(labels != -100, labels, tokenizer.pad_token_id)\n",
        "    decoded_labels = tokenizer.batch_decode(labels, skip_special_tokens=True)\n",
        "\n",
        "    result = rouge.compute(predictions=decoded_preds, references=decoded_labels, use_stemmer=True)\n",
        "\n",
        "    prediction_lens = [np.count_nonzero(pred != tokenizer.pad_token_id) for pred in predictions]\n",
        "    result[\"gen_len\"] = np.mean(prediction_lens)\n",
        "\n",
        "    return {k: round(v, 4) for k, v in result.items()}\n",
        "\n",
        "# Note this is not used in the current model as we did not have enough time to fine tune the model"
      ],
      "id": "ee52f354-b550-4bf4-a3bf-f26ca772bcaf"
    },
    {
      "cell_type": "code",
      "execution_count": 42,
      "metadata": {
        "id": "9aa064cb-59e2-457a-b329-e54e4af979b7"
      },
      "outputs": [],
      "source": [
        "#Load T5 with AutoModelForSeq2SeqLM:\n",
        "model = AutoModelForSeq2SeqLM.from_pretrained(t5)"
      ],
      "id": "9aa064cb-59e2-457a-b329-e54e4af979b7"
    },
    {
      "cell_type": "code",
      "execution_count": 49,
      "metadata": {
        "id": "484a87b0-bf0b-406a-a835-26ab96351488"
      },
      "outputs": [],
      "source": [
        "#Text to be summarized:\n",
        "full = \"summarize: But don’t be fooled; your body is working hard when you’re in the pool. Water is denser than air, so moving through H2O puts more external pressure on your limbs than out-of-water training, studies have shown. Even better, that pressure is uniformly distributed. It doesn’t collect in your knees, hips or the other places that bear most of the burden when you exercise with gravity sitting on your shoulders. How you breathe during a swimming workout is another big differentiator, says David Tanner, a research associate at Indiana University and co-editor of an educational handbook on the science of swimming. During a run or bike ride, your breath tends to be shallow and your exhales forceful. “It’s the other way around with swimming,” says Tanner. “You breathe in quickly and deeply, and then let the air trickle out.” Because your head is under water when you swim, these breathing adjustments are vital, and they may improve the strength of your respiratory muscles, Tanner says. “This kind of breathing keeps the lung alveoli”—the millions of little balloon-like structures that inflate and deflate as your breathe—“from collapsing and sticking together.”.\""
      ],
      "id": "484a87b0-bf0b-406a-a835-26ab96351488"
    },
    {
      "cell_type": "code",
      "execution_count": 52,
      "metadata": {
        "colab": {
          "base_uri": "https://localhost:8080/"
        },
        "id": "eIKXJV7dLmZf",
        "outputId": "40ea90bd-4d17-4643-e228-79cbd9d6a560"
      },
      "outputs": [
        {
          "output_type": "stream",
          "name": "stdout",
          "text": [
            "a swimming workout puts more external pressure on your limbs than out-of-water training, studies have shown. During a run or bike ride, your breath tends to be shallow and your exhales forceful. During a run or bike ride, your breath tends to be shallow and your exhales forceful.\n"
          ]
        }
      ],
      "source": [
        "#Test\n",
        "summarizer = pipeline(\"summarization\", model=\"stevhliu/my_awesome_billsum_model\")\n",
        "summarizer(full)\n",
        "\n",
        "#Tokenize the text:\n",
        "tokenizer = AutoTokenizer.from_pretrained(\"stevhliu/my_awesome_billsum_model\")\n",
        "inputs = tokenizer(full, return_tensors=\"pt\").input_ids\n",
        "\n",
        "#Use generate()\n",
        "model = AutoModelForSeq2SeqLM.from_pretrained(\"stevhliu/my_awesome_billsum_model\")\n",
        "outputs = model.generate(inputs, max_new_tokens=100, do_sample=False)\n",
        "\n",
        "#Decode the generated token ids back into text:\n",
        "real_out = tokenizer.decode(outputs[0], skip_special_tokens=True)\n",
        "print(real_out)"
      ],
      "id": "eIKXJV7dLmZf"
    }
  ],
  "metadata": {
    "colab": {
      "provenance": []
    },
    "kernelspec": {
      "display_name": "Python 3.10 (BMXI)",
      "language": "python",
      "name": "py3.10-torch"
    },
    "language_info": {
      "codemirror_mode": {
        "name": "ipython",
        "version": 3
      },
      "file_extension": ".py",
      "mimetype": "text/x-python",
      "name": "python",
      "nbconvert_exporter": "python",
      "pygments_lexer": "ipython3",
      "version": "3.10.13"
    },
    "widgets": {
      "application/vnd.jupyter.widget-state+json": {
        "63516a3275f544bd8455471598fbd7b5": {
          "model_module": "@jupyter-widgets/controls",
          "model_name": "HBoxModel",
          "model_module_version": "1.5.0",
          "state": {
            "_dom_classes": [],
            "_model_module": "@jupyter-widgets/controls",
            "_model_module_version": "1.5.0",
            "_model_name": "HBoxModel",
            "_view_count": null,
            "_view_module": "@jupyter-widgets/controls",
            "_view_module_version": "1.5.0",
            "_view_name": "HBoxView",
            "box_style": "",
            "children": [
              "IPY_MODEL_11a3dcb3da894d4785a06b44de9c97e2",
              "IPY_MODEL_71c1e6c534d1446987aa29a8ce6bdfbe",
              "IPY_MODEL_6e33b666a42843e7b2583fc3ef59c140"
            ],
            "layout": "IPY_MODEL_408495a133c6457da530b9b1a77e88b0"
          }
        },
        "11a3dcb3da894d4785a06b44de9c97e2": {
          "model_module": "@jupyter-widgets/controls",
          "model_name": "HTMLModel",
          "model_module_version": "1.5.0",
          "state": {
            "_dom_classes": [],
            "_model_module": "@jupyter-widgets/controls",
            "_model_module_version": "1.5.0",
            "_model_name": "HTMLModel",
            "_view_count": null,
            "_view_module": "@jupyter-widgets/controls",
            "_view_module_version": "1.5.0",
            "_view_name": "HTMLView",
            "description": "",
            "description_tooltip": null,
            "layout": "IPY_MODEL_c329e5da29094179b8265694a3657f5b",
            "placeholder": "​",
            "style": "IPY_MODEL_bdd5e2e6109b47a59e8324f05bd4c50f",
            "value": "Map: 100%"
          }
        },
        "71c1e6c534d1446987aa29a8ce6bdfbe": {
          "model_module": "@jupyter-widgets/controls",
          "model_name": "FloatProgressModel",
          "model_module_version": "1.5.0",
          "state": {
            "_dom_classes": [],
            "_model_module": "@jupyter-widgets/controls",
            "_model_module_version": "1.5.0",
            "_model_name": "FloatProgressModel",
            "_view_count": null,
            "_view_module": "@jupyter-widgets/controls",
            "_view_module_version": "1.5.0",
            "_view_name": "ProgressView",
            "bar_style": "success",
            "description": "",
            "description_tooltip": null,
            "layout": "IPY_MODEL_b5fe023de3424680884bbf5a9b1744c5",
            "max": 742,
            "min": 0,
            "orientation": "horizontal",
            "style": "IPY_MODEL_b1d46c2b4307467eaad63790db61602f",
            "value": 742
          }
        },
        "6e33b666a42843e7b2583fc3ef59c140": {
          "model_module": "@jupyter-widgets/controls",
          "model_name": "HTMLModel",
          "model_module_version": "1.5.0",
          "state": {
            "_dom_classes": [],
            "_model_module": "@jupyter-widgets/controls",
            "_model_module_version": "1.5.0",
            "_model_name": "HTMLModel",
            "_view_count": null,
            "_view_module": "@jupyter-widgets/controls",
            "_view_module_version": "1.5.0",
            "_view_name": "HTMLView",
            "description": "",
            "description_tooltip": null,
            "layout": "IPY_MODEL_70f6ef11aa4d4602a294df670e524f50",
            "placeholder": "​",
            "style": "IPY_MODEL_4fe1d52ba30c473ab51c79ab335bf7ea",
            "value": " 742/742 [00:06&lt;00:00, 112.93 examples/s]"
          }
        },
        "408495a133c6457da530b9b1a77e88b0": {
          "model_module": "@jupyter-widgets/base",
          "model_name": "LayoutModel",
          "model_module_version": "1.2.0",
          "state": {
            "_model_module": "@jupyter-widgets/base",
            "_model_module_version": "1.2.0",
            "_model_name": "LayoutModel",
            "_view_count": null,
            "_view_module": "@jupyter-widgets/base",
            "_view_module_version": "1.2.0",
            "_view_name": "LayoutView",
            "align_content": null,
            "align_items": null,
            "align_self": null,
            "border": null,
            "bottom": null,
            "display": null,
            "flex": null,
            "flex_flow": null,
            "grid_area": null,
            "grid_auto_columns": null,
            "grid_auto_flow": null,
            "grid_auto_rows": null,
            "grid_column": null,
            "grid_gap": null,
            "grid_row": null,
            "grid_template_areas": null,
            "grid_template_columns": null,
            "grid_template_rows": null,
            "height": null,
            "justify_content": null,
            "justify_items": null,
            "left": null,
            "margin": null,
            "max_height": null,
            "max_width": null,
            "min_height": null,
            "min_width": null,
            "object_fit": null,
            "object_position": null,
            "order": null,
            "overflow": null,
            "overflow_x": null,
            "overflow_y": null,
            "padding": null,
            "right": null,
            "top": null,
            "visibility": null,
            "width": null
          }
        },
        "c329e5da29094179b8265694a3657f5b": {
          "model_module": "@jupyter-widgets/base",
          "model_name": "LayoutModel",
          "model_module_version": "1.2.0",
          "state": {
            "_model_module": "@jupyter-widgets/base",
            "_model_module_version": "1.2.0",
            "_model_name": "LayoutModel",
            "_view_count": null,
            "_view_module": "@jupyter-widgets/base",
            "_view_module_version": "1.2.0",
            "_view_name": "LayoutView",
            "align_content": null,
            "align_items": null,
            "align_self": null,
            "border": null,
            "bottom": null,
            "display": null,
            "flex": null,
            "flex_flow": null,
            "grid_area": null,
            "grid_auto_columns": null,
            "grid_auto_flow": null,
            "grid_auto_rows": null,
            "grid_column": null,
            "grid_gap": null,
            "grid_row": null,
            "grid_template_areas": null,
            "grid_template_columns": null,
            "grid_template_rows": null,
            "height": null,
            "justify_content": null,
            "justify_items": null,
            "left": null,
            "margin": null,
            "max_height": null,
            "max_width": null,
            "min_height": null,
            "min_width": null,
            "object_fit": null,
            "object_position": null,
            "order": null,
            "overflow": null,
            "overflow_x": null,
            "overflow_y": null,
            "padding": null,
            "right": null,
            "top": null,
            "visibility": null,
            "width": null
          }
        },
        "bdd5e2e6109b47a59e8324f05bd4c50f": {
          "model_module": "@jupyter-widgets/controls",
          "model_name": "DescriptionStyleModel",
          "model_module_version": "1.5.0",
          "state": {
            "_model_module": "@jupyter-widgets/controls",
            "_model_module_version": "1.5.0",
            "_model_name": "DescriptionStyleModel",
            "_view_count": null,
            "_view_module": "@jupyter-widgets/base",
            "_view_module_version": "1.2.0",
            "_view_name": "StyleView",
            "description_width": ""
          }
        },
        "b5fe023de3424680884bbf5a9b1744c5": {
          "model_module": "@jupyter-widgets/base",
          "model_name": "LayoutModel",
          "model_module_version": "1.2.0",
          "state": {
            "_model_module": "@jupyter-widgets/base",
            "_model_module_version": "1.2.0",
            "_model_name": "LayoutModel",
            "_view_count": null,
            "_view_module": "@jupyter-widgets/base",
            "_view_module_version": "1.2.0",
            "_view_name": "LayoutView",
            "align_content": null,
            "align_items": null,
            "align_self": null,
            "border": null,
            "bottom": null,
            "display": null,
            "flex": null,
            "flex_flow": null,
            "grid_area": null,
            "grid_auto_columns": null,
            "grid_auto_flow": null,
            "grid_auto_rows": null,
            "grid_column": null,
            "grid_gap": null,
            "grid_row": null,
            "grid_template_areas": null,
            "grid_template_columns": null,
            "grid_template_rows": null,
            "height": null,
            "justify_content": null,
            "justify_items": null,
            "left": null,
            "margin": null,
            "max_height": null,
            "max_width": null,
            "min_height": null,
            "min_width": null,
            "object_fit": null,
            "object_position": null,
            "order": null,
            "overflow": null,
            "overflow_x": null,
            "overflow_y": null,
            "padding": null,
            "right": null,
            "top": null,
            "visibility": null,
            "width": null
          }
        },
        "b1d46c2b4307467eaad63790db61602f": {
          "model_module": "@jupyter-widgets/controls",
          "model_name": "ProgressStyleModel",
          "model_module_version": "1.5.0",
          "state": {
            "_model_module": "@jupyter-widgets/controls",
            "_model_module_version": "1.5.0",
            "_model_name": "ProgressStyleModel",
            "_view_count": null,
            "_view_module": "@jupyter-widgets/base",
            "_view_module_version": "1.2.0",
            "_view_name": "StyleView",
            "bar_color": null,
            "description_width": ""
          }
        },
        "70f6ef11aa4d4602a294df670e524f50": {
          "model_module": "@jupyter-widgets/base",
          "model_name": "LayoutModel",
          "model_module_version": "1.2.0",
          "state": {
            "_model_module": "@jupyter-widgets/base",
            "_model_module_version": "1.2.0",
            "_model_name": "LayoutModel",
            "_view_count": null,
            "_view_module": "@jupyter-widgets/base",
            "_view_module_version": "1.2.0",
            "_view_name": "LayoutView",
            "align_content": null,
            "align_items": null,
            "align_self": null,
            "border": null,
            "bottom": null,
            "display": null,
            "flex": null,
            "flex_flow": null,
            "grid_area": null,
            "grid_auto_columns": null,
            "grid_auto_flow": null,
            "grid_auto_rows": null,
            "grid_column": null,
            "grid_gap": null,
            "grid_row": null,
            "grid_template_areas": null,
            "grid_template_columns": null,
            "grid_template_rows": null,
            "height": null,
            "justify_content": null,
            "justify_items": null,
            "left": null,
            "margin": null,
            "max_height": null,
            "max_width": null,
            "min_height": null,
            "min_width": null,
            "object_fit": null,
            "object_position": null,
            "order": null,
            "overflow": null,
            "overflow_x": null,
            "overflow_y": null,
            "padding": null,
            "right": null,
            "top": null,
            "visibility": null,
            "width": null
          }
        },
        "4fe1d52ba30c473ab51c79ab335bf7ea": {
          "model_module": "@jupyter-widgets/controls",
          "model_name": "DescriptionStyleModel",
          "model_module_version": "1.5.0",
          "state": {
            "_model_module": "@jupyter-widgets/controls",
            "_model_module_version": "1.5.0",
            "_model_name": "DescriptionStyleModel",
            "_view_count": null,
            "_view_module": "@jupyter-widgets/base",
            "_view_module_version": "1.2.0",
            "_view_name": "StyleView",
            "description_width": ""
          }
        },
        "3d4de5f979314ce1a0fa811f10ffdf72": {
          "model_module": "@jupyter-widgets/controls",
          "model_name": "HBoxModel",
          "model_module_version": "1.5.0",
          "state": {
            "_dom_classes": [],
            "_model_module": "@jupyter-widgets/controls",
            "_model_module_version": "1.5.0",
            "_model_name": "HBoxModel",
            "_view_count": null,
            "_view_module": "@jupyter-widgets/controls",
            "_view_module_version": "1.5.0",
            "_view_name": "HBoxView",
            "box_style": "",
            "children": [
              "IPY_MODEL_8b2f7b1b80f34c568e9ebaca11772331",
              "IPY_MODEL_29cab978ef874c3bbba2fbfe90c6fab6",
              "IPY_MODEL_509a70372e9e4e2bac56a16d77545c98"
            ],
            "layout": "IPY_MODEL_0bbf44f0c4c347fbbccec71c76a3fcaa"
          }
        },
        "8b2f7b1b80f34c568e9ebaca11772331": {
          "model_module": "@jupyter-widgets/controls",
          "model_name": "HTMLModel",
          "model_module_version": "1.5.0",
          "state": {
            "_dom_classes": [],
            "_model_module": "@jupyter-widgets/controls",
            "_model_module_version": "1.5.0",
            "_model_name": "HTMLModel",
            "_view_count": null,
            "_view_module": "@jupyter-widgets/controls",
            "_view_module_version": "1.5.0",
            "_view_name": "HTMLView",
            "description": "",
            "description_tooltip": null,
            "layout": "IPY_MODEL_4b699cd0054e496a8e91dbdcfd1ce20b",
            "placeholder": "​",
            "style": "IPY_MODEL_670caeeb3751429187a7edb853850672",
            "value": "Map: 100%"
          }
        },
        "29cab978ef874c3bbba2fbfe90c6fab6": {
          "model_module": "@jupyter-widgets/controls",
          "model_name": "FloatProgressModel",
          "model_module_version": "1.5.0",
          "state": {
            "_dom_classes": [],
            "_model_module": "@jupyter-widgets/controls",
            "_model_module_version": "1.5.0",
            "_model_name": "FloatProgressModel",
            "_view_count": null,
            "_view_module": "@jupyter-widgets/controls",
            "_view_module_version": "1.5.0",
            "_view_name": "ProgressView",
            "bar_style": "success",
            "description": "",
            "description_tooltip": null,
            "layout": "IPY_MODEL_87f88987f4df45f9b710cc0f1e95c123",
            "max": 495,
            "min": 0,
            "orientation": "horizontal",
            "style": "IPY_MODEL_fe8ec266478c484c9109183f2b4c6a68",
            "value": 495
          }
        },
        "509a70372e9e4e2bac56a16d77545c98": {
          "model_module": "@jupyter-widgets/controls",
          "model_name": "HTMLModel",
          "model_module_version": "1.5.0",
          "state": {
            "_dom_classes": [],
            "_model_module": "@jupyter-widgets/controls",
            "_model_module_version": "1.5.0",
            "_model_name": "HTMLModel",
            "_view_count": null,
            "_view_module": "@jupyter-widgets/controls",
            "_view_module_version": "1.5.0",
            "_view_name": "HTMLView",
            "description": "",
            "description_tooltip": null,
            "layout": "IPY_MODEL_76b242e96f43440298a48c59bbd37685",
            "placeholder": "​",
            "style": "IPY_MODEL_80edb115e96c49b1874bdcb0192b058e",
            "value": " 495/495 [00:04&lt;00:00, 116.68 examples/s]"
          }
        },
        "0bbf44f0c4c347fbbccec71c76a3fcaa": {
          "model_module": "@jupyter-widgets/base",
          "model_name": "LayoutModel",
          "model_module_version": "1.2.0",
          "state": {
            "_model_module": "@jupyter-widgets/base",
            "_model_module_version": "1.2.0",
            "_model_name": "LayoutModel",
            "_view_count": null,
            "_view_module": "@jupyter-widgets/base",
            "_view_module_version": "1.2.0",
            "_view_name": "LayoutView",
            "align_content": null,
            "align_items": null,
            "align_self": null,
            "border": null,
            "bottom": null,
            "display": null,
            "flex": null,
            "flex_flow": null,
            "grid_area": null,
            "grid_auto_columns": null,
            "grid_auto_flow": null,
            "grid_auto_rows": null,
            "grid_column": null,
            "grid_gap": null,
            "grid_row": null,
            "grid_template_areas": null,
            "grid_template_columns": null,
            "grid_template_rows": null,
            "height": null,
            "justify_content": null,
            "justify_items": null,
            "left": null,
            "margin": null,
            "max_height": null,
            "max_width": null,
            "min_height": null,
            "min_width": null,
            "object_fit": null,
            "object_position": null,
            "order": null,
            "overflow": null,
            "overflow_x": null,
            "overflow_y": null,
            "padding": null,
            "right": null,
            "top": null,
            "visibility": null,
            "width": null
          }
        },
        "4b699cd0054e496a8e91dbdcfd1ce20b": {
          "model_module": "@jupyter-widgets/base",
          "model_name": "LayoutModel",
          "model_module_version": "1.2.0",
          "state": {
            "_model_module": "@jupyter-widgets/base",
            "_model_module_version": "1.2.0",
            "_model_name": "LayoutModel",
            "_view_count": null,
            "_view_module": "@jupyter-widgets/base",
            "_view_module_version": "1.2.0",
            "_view_name": "LayoutView",
            "align_content": null,
            "align_items": null,
            "align_self": null,
            "border": null,
            "bottom": null,
            "display": null,
            "flex": null,
            "flex_flow": null,
            "grid_area": null,
            "grid_auto_columns": null,
            "grid_auto_flow": null,
            "grid_auto_rows": null,
            "grid_column": null,
            "grid_gap": null,
            "grid_row": null,
            "grid_template_areas": null,
            "grid_template_columns": null,
            "grid_template_rows": null,
            "height": null,
            "justify_content": null,
            "justify_items": null,
            "left": null,
            "margin": null,
            "max_height": null,
            "max_width": null,
            "min_height": null,
            "min_width": null,
            "object_fit": null,
            "object_position": null,
            "order": null,
            "overflow": null,
            "overflow_x": null,
            "overflow_y": null,
            "padding": null,
            "right": null,
            "top": null,
            "visibility": null,
            "width": null
          }
        },
        "670caeeb3751429187a7edb853850672": {
          "model_module": "@jupyter-widgets/controls",
          "model_name": "DescriptionStyleModel",
          "model_module_version": "1.5.0",
          "state": {
            "_model_module": "@jupyter-widgets/controls",
            "_model_module_version": "1.5.0",
            "_model_name": "DescriptionStyleModel",
            "_view_count": null,
            "_view_module": "@jupyter-widgets/base",
            "_view_module_version": "1.2.0",
            "_view_name": "StyleView",
            "description_width": ""
          }
        },
        "87f88987f4df45f9b710cc0f1e95c123": {
          "model_module": "@jupyter-widgets/base",
          "model_name": "LayoutModel",
          "model_module_version": "1.2.0",
          "state": {
            "_model_module": "@jupyter-widgets/base",
            "_model_module_version": "1.2.0",
            "_model_name": "LayoutModel",
            "_view_count": null,
            "_view_module": "@jupyter-widgets/base",
            "_view_module_version": "1.2.0",
            "_view_name": "LayoutView",
            "align_content": null,
            "align_items": null,
            "align_self": null,
            "border": null,
            "bottom": null,
            "display": null,
            "flex": null,
            "flex_flow": null,
            "grid_area": null,
            "grid_auto_columns": null,
            "grid_auto_flow": null,
            "grid_auto_rows": null,
            "grid_column": null,
            "grid_gap": null,
            "grid_row": null,
            "grid_template_areas": null,
            "grid_template_columns": null,
            "grid_template_rows": null,
            "height": null,
            "justify_content": null,
            "justify_items": null,
            "left": null,
            "margin": null,
            "max_height": null,
            "max_width": null,
            "min_height": null,
            "min_width": null,
            "object_fit": null,
            "object_position": null,
            "order": null,
            "overflow": null,
            "overflow_x": null,
            "overflow_y": null,
            "padding": null,
            "right": null,
            "top": null,
            "visibility": null,
            "width": null
          }
        },
        "fe8ec266478c484c9109183f2b4c6a68": {
          "model_module": "@jupyter-widgets/controls",
          "model_name": "ProgressStyleModel",
          "model_module_version": "1.5.0",
          "state": {
            "_model_module": "@jupyter-widgets/controls",
            "_model_module_version": "1.5.0",
            "_model_name": "ProgressStyleModel",
            "_view_count": null,
            "_view_module": "@jupyter-widgets/base",
            "_view_module_version": "1.2.0",
            "_view_name": "StyleView",
            "bar_color": null,
            "description_width": ""
          }
        },
        "76b242e96f43440298a48c59bbd37685": {
          "model_module": "@jupyter-widgets/base",
          "model_name": "LayoutModel",
          "model_module_version": "1.2.0",
          "state": {
            "_model_module": "@jupyter-widgets/base",
            "_model_module_version": "1.2.0",
            "_model_name": "LayoutModel",
            "_view_count": null,
            "_view_module": "@jupyter-widgets/base",
            "_view_module_version": "1.2.0",
            "_view_name": "LayoutView",
            "align_content": null,
            "align_items": null,
            "align_self": null,
            "border": null,
            "bottom": null,
            "display": null,
            "flex": null,
            "flex_flow": null,
            "grid_area": null,
            "grid_auto_columns": null,
            "grid_auto_flow": null,
            "grid_auto_rows": null,
            "grid_column": null,
            "grid_gap": null,
            "grid_row": null,
            "grid_template_areas": null,
            "grid_template_columns": null,
            "grid_template_rows": null,
            "height": null,
            "justify_content": null,
            "justify_items": null,
            "left": null,
            "margin": null,
            "max_height": null,
            "max_width": null,
            "min_height": null,
            "min_width": null,
            "object_fit": null,
            "object_position": null,
            "order": null,
            "overflow": null,
            "overflow_x": null,
            "overflow_y": null,
            "padding": null,
            "right": null,
            "top": null,
            "visibility": null,
            "width": null
          }
        },
        "80edb115e96c49b1874bdcb0192b058e": {
          "model_module": "@jupyter-widgets/controls",
          "model_name": "DescriptionStyleModel",
          "model_module_version": "1.5.0",
          "state": {
            "_model_module": "@jupyter-widgets/controls",
            "_model_module_version": "1.5.0",
            "_model_name": "DescriptionStyleModel",
            "_view_count": null,
            "_view_module": "@jupyter-widgets/base",
            "_view_module_version": "1.2.0",
            "_view_name": "StyleView",
            "description_width": ""
          }
        }
      }
    }
  },
  "nbformat": 4,
  "nbformat_minor": 5
}